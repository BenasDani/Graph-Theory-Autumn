{
  "nbformat": 4,
  "nbformat_minor": 0,
  "metadata": {
    "colab": {
      "name": "graph-isomorphyism.ipynb",
      "provenance": [],
      "authorship_tag": "ABX9TyNCs8FpajBDyLurfS/vlaoW",
      "include_colab_link": true
    },
    "kernelspec": {
      "name": "python3",
      "display_name": "Python 3"
    },
    "language_info": {
      "name": "python"
    }
  },
  "cells": [
    {
      "cell_type": "markdown",
      "metadata": {
        "id": "view-in-github",
        "colab_type": "text"
      },
      "source": [
        "<a href=\"https://colab.research.google.com/github/BenasDani/Graph-Theory-Autumn/blob/main/graph_isomorphyism.ipynb\" target=\"_parent\"><img src=\"https://colab.research.google.com/assets/colab-badge.svg\" alt=\"Open In Colab\"/></a>"
      ]
    },
    {
      "cell_type": "code",
      "execution_count": null,
      "metadata": {
        "id": "IXxrfZugMLUm"
      },
      "outputs": [],
      "source": [
        ""
      ]
    },
    {
      "cell_type": "markdown",
      "source": [
        "# Graph Isomorphism\n",
        "---------------------------------------\n",
        "\n",
        "# Definition of graph isomorphism.\n",
        "Isomorphism is when two graphs have the exact same structure. Both graphs have the same number of nodes and each node is connected in the same way and one can be converted into the other.\n",
        "\n",
        "# Specification of the Graph Isomorphism Problem.\n",
        "Two Graphs An and B are isomorphic in the event that there is a bijection from the vertex set of A to the vertex set of B with the end goal that contiguousness and non-nearness are protected. A bijection is when there is no unpaired components.\n",
        "Sometimes two graphs may look similar in structure, it is not right to assume that they are isomorphic. A graph can exist in different forms having the same number of vertices, edges, and also the same edge connectivity.These such graphs would be called isomorphic.\n",
        "\n",
        "\n",
        "\n",
        "\n"
      ],
      "metadata": {
        "id": "PtWWD-dBNek1"
      }
    }
  ]
}