{
  "nbformat": 4,
  "nbformat_minor": 0,
  "metadata": {
    "colab": {
      "name": "Heapsort.ipynb",
      "provenance": [],
      "collapsed_sections": [],
      "authorship_tag": "ABX9TyMWZJx5/OJbMSGIAlaZyE4a"
    },
    "kernelspec": {
      "name": "python3",
      "display_name": "Python 3"
    },
    "language_info": {
      "name": "python"
    }
  },
  "cells": [
    {
      "cell_type": "code",
      "execution_count": null,
      "metadata": {
        "id": "gm0SLbn-fuRX"
      },
      "outputs": [],
      "source": [
        ""
      ]
    },
    {
      "cell_type": "code",
      "source": [
        ""
      ],
      "metadata": {
        "id": "Huk7GN_X0h7j"
      },
      "execution_count": null,
      "outputs": []
    },
    {
      "cell_type": "markdown",
      "source": [
        "# Rooted Binary Tree\n",
        "A binary tree is a rooted tree that is also an ordered tree (a.k.a. plane tree) in which every node has at most two children. A rooted tree naturally imparts a notion of levels (distance from the root), thus for every node a notion of children may be defined as the nodes connected to it a level below. If m = 2, the rooted tree is called a binary tree.\n",
        "\n",
        "# What is a Heapsort algorithm\n",
        "Heapsort is a popular and efficient sorting algorithm. The concept of heap sort is to eliminate the elements one by one from the heap part of the list, and then insert them into the sorted part of the list.\n",
        "\n",
        "# How to carry out Heap sort\n",
        "-Build a max-heap from an unordered array.\n",
        "\n",
        "-Find the maximum value element, which is located at A[0] because the heap is a max-heap.\n",
        "\n",
        "-Swap elements A[N] and A[0] so that the maximum value element is at the end of the array where it belongs.\n",
        "\n",
        "-Decrement the heap size by one. The sorted part of the list has grown and the heap has shrunk.\n",
        "\n",
        "-Now run heapify on the heap in case the new root causes a violation of the max-heap property.\n",
        "\n",
        "-Now find the max value element again and redo.\n",
        "\n",
        "\n",
        "\n",
        "\n",
        "\n",
        "\n",
        "\n"
      ],
      "metadata": {
        "id": "qKTb7C-dfv_N"
      }
    }
  ]
}