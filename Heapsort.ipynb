{
  "nbformat": 4,
  "nbformat_minor": 0,
  "metadata": {
    "colab": {
      "name": "Heapsort.ipynb",
      "provenance": [],
      "collapsed_sections": [],
      "authorship_tag": "ABX9TyN1SDitiMd4yUUNdmN7FWn3",
      "include_colab_link": true
    },
    "kernelspec": {
      "name": "python3",
      "display_name": "Python 3"
    },
    "language_info": {
      "name": "python"
    }
  },
  "cells": [
    {
      "cell_type": "markdown",
      "metadata": {
        "id": "view-in-github",
        "colab_type": "text"
      },
      "source": [
        "<a href=\"https://colab.research.google.com/github/BenasDani/Graph-Theory-Autumn/blob/main/Heapsort.ipynb\" target=\"_parent\"><img src=\"https://colab.research.google.com/assets/colab-badge.svg\" alt=\"Open In Colab\"/></a>"
      ]
    },
    {
      "cell_type": "markdown",
      "source": [
        "# Rooted Binary Tree\n",
        "A binary tree is a rooted tree that is also an ordered tree (a.k.a. plane tree) in which every node has at most two children. A rooted tree naturally imparts a notion of levels (distance from the root), thus for every node a notion of children may be defined as the nodes connected to it a level below. If m = 2, the rooted tree is called a binary tree.\n",
        "\n",
        "# What is a Heapsort algorithm\n",
        "Heapsort is a popular and efficient sorting algorithm. The concept of heap sort is to eliminate the elements one by one from the heap part of the list, and then insert them into the sorted part of the list.\n",
        "\n",
        "# How to carrListy out Heap sort\n",
        "-Build a max-heap from an unordered arrListay.\n",
        "\n",
        "-Find the maximum value element, which is located at A[0] because the heap is a max-heap.\n",
        "\n",
        "-Swap elements A[N] and A[0] so that the maximum value element is at the end of the arrListay where it belongs.\n",
        "\n",
        "-Decrement the heap size by one. The sorted part of the list has grown and the heap has shrunk.\n",
        "\n",
        "-Now run heapify on the heap in case the new root causes a violation of the max-heap property.\n",
        "\n",
        "-Now find the max value element again and redo.\n",
        "\n",
        "\n",
        "\n",
        "\n",
        "\n",
        "\n",
        "\n"
      ],
      "metadata": {
        "id": "qKTb7C-dfv_N"
      }
    },
    {
      "cell_type": "code",
      "source": [
        "def heapify(arrList, n, i):\n",
        "    largest = i  # Initialize largest as root\n",
        "    lChild = 2 * i + 1  # left = 2*i + 1\n",
        "    rChild = 2 * i + 2  # right = 2*i + 2\n",
        " \n",
        " # See if left child of root exists and is\n",
        " # greater than root\n",
        " \n",
        "    if lChild < n and arrList[i] < arrList[lChild]:\n",
        "        largest = lChild\n",
        " \n",
        " # See if right child of root exists and is\n",
        " # greater than root\n",
        " \n",
        "    if rChild < n and arrList[largest] < arrList[rChild]:\n",
        "        largest = rChild\n",
        " \n",
        " # Change root, if needed\n",
        " \n",
        "    if largest != i:\n",
        "        (arrList[i], arrList[largest]) = (arrList[largest], arrList[i])  # swap\n",
        " \n",
        "  # Heapify the root.\n",
        " \n",
        "        heapify(arrList, n, largest)\n",
        " \n",
        " \n",
        "# The main function to sort an arrListay of given size\n",
        " \n",
        "def heapSort(arrList):\n",
        "    n = len(arrList)\n",
        " \n",
        " # Build a maxheap\n",
        " # Since last parent will be at ((n//2)-1) we can start at that location.\n",
        " \n",
        "    for i in range(n // 2 - 1, -1, -1):\n",
        "        heapify(arrList, n, i)\n",
        " \n",
        " # Extract elements one by one\n",
        " \n",
        "    for i in range(n - 1, 0, -1):\n",
        "        (arrList[i], arrList[0]) = (arrList[0], arrList[i])  # swap\n",
        "        heapify(arrList, i, 0)\n",
        " \n",
        " \n",
        "arrList = [12, 11, 24, 5, 18, 89, ]\n",
        "heapSort(arrList)\n",
        "n = len(arrList)\n",
        "print('Sorted array list is')\n",
        "for i in range(n):\n",
        "    print(arrList[i])"
      ],
      "metadata": {
        "colab": {
          "base_uri": "https://localhost:8080/"
        },
        "id": "uv_suCxN_cGL",
        "outputId": "017a9e46-49ec-4992-8bd7-6d58dc6066ba"
      },
      "execution_count": 10,
      "outputs": [
        {
          "output_type": "stream",
          "name": "stdout",
          "text": [
            "Sorted array list is\n",
            "5\n",
            "11\n",
            "12\n",
            "18\n",
            "24\n",
            "89\n"
          ]
        }
      ]
    }
  ]
}